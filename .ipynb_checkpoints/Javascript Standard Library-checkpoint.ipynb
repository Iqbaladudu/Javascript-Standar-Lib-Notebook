{
 "cells": [
  {
   "cell_type": "markdown",
   "id": "d8634339",
   "metadata": {},
   "source": [
    "## Number"
   ]
  },
  {
   "cell_type": "code",
   "execution_count": 1,
   "id": "5577eaee",
   "metadata": {},
   "outputs": [],
   "source": [
    "const input = \"12345\"\n",
    "const number = Number(input)"
   ]
  },
  {
   "cell_type": "code",
   "execution_count": 2,
   "id": "857465fa",
   "metadata": {},
   "outputs": [
    {
     "name": "stdout",
     "output_type": "stream",
     "text": [
      "string\n",
      "number\n"
     ]
    }
   ],
   "source": [
    "console.log(typeof input)\n",
    "console.log(typeof number)"
   ]
  },
  {
   "cell_type": "markdown",
   "id": "d849aeeb",
   "metadata": {},
   "source": [
    "### Static Method Number"
   ]
  },
  {
   "cell_type": "code",
   "execution_count": 3,
   "id": "ef6df3ab",
   "metadata": {},
   "outputs": [],
   "source": [
    "const data = Number(\"12345\")"
   ]
  },
  {
   "cell_type": "code",
   "execution_count": 4,
   "id": "3c859685",
   "metadata": {},
   "outputs": [
    {
     "name": "stdout",
     "output_type": "stream",
     "text": [
      "true\n",
      "false\n"
     ]
    }
   ],
   "source": [
    "console.info(Number.isInteger(data))\n",
    "console.info(Number.isNaN(data))"
   ]
  },
  {
   "cell_type": "markdown",
   "id": "85d524a7",
   "metadata": {},
   "source": [
    "### Number Instance Method"
   ]
  },
  {
   "cell_type": "code",
   "execution_count": 5,
   "id": "e564ec27",
   "metadata": {},
   "outputs": [],
   "source": [
    "let num = Number(\"12345\")"
   ]
  },
  {
   "cell_type": "code",
   "execution_count": 6,
   "id": "dc12660b",
   "metadata": {},
   "outputs": [
    {
     "name": "stdout",
     "output_type": "stream",
     "text": [
      "12345\n"
     ]
    }
   ],
   "source": [
    "console.log(num.toString())"
   ]
  },
  {
   "cell_type": "code",
   "execution_count": 7,
   "id": "30830eb0",
   "metadata": {},
   "outputs": [
    {
     "name": "stdout",
     "output_type": "stream",
     "text": [
      "12.345\n"
     ]
    }
   ],
   "source": [
    "console.log(num.toLocaleString(\"id-ID\"))"
   ]
  },
  {
   "cell_type": "code",
   "execution_count": 8,
   "id": "d00dbf49",
   "metadata": {},
   "outputs": [
    {
     "name": "stdout",
     "output_type": "stream",
     "text": [
      "12,345\n"
     ]
    }
   ],
   "source": [
    "console.log(num.toLocaleString(\"en-US\"))"
   ]
  },
  {
   "cell_type": "markdown",
   "id": "9fddf76a",
   "metadata": {},
   "source": [
    "## String"
   ]
  },
  {
   "cell_type": "code",
   "execution_count": 9,
   "id": "dc152deb",
   "metadata": {},
   "outputs": [],
   "source": [
    "let name = \"Muhammad Iqbal\""
   ]
  },
  {
   "cell_type": "code",
   "execution_count": 10,
   "id": "8c06c2cd",
   "metadata": {},
   "outputs": [
    {
     "name": "stdout",
     "output_type": "stream",
     "text": [
      "14\n"
     ]
    }
   ],
   "source": [
    "console.info(name.length)"
   ]
  },
  {
   "cell_type": "code",
   "execution_count": 11,
   "id": "63a6209a",
   "metadata": {},
   "outputs": [
    {
     "name": "stdout",
     "output_type": "stream",
     "text": [
      "muhammad iqbal\n"
     ]
    }
   ],
   "source": [
    "console.info(name.toLowerCase())"
   ]
  },
  {
   "cell_type": "code",
   "execution_count": 12,
   "id": "51279c6b",
   "metadata": {},
   "outputs": [
    {
     "name": "stdout",
     "output_type": "stream",
     "text": [
      "MUHAMMAD IQBAL\n"
     ]
    }
   ],
   "source": [
    "console.info(name.toUpperCase())"
   ]
  },
  {
   "cell_type": "code",
   "execution_count": 13,
   "id": "549dd221",
   "metadata": {},
   "outputs": [
    {
     "name": "stdout",
     "output_type": "stream",
     "text": [
      "[\n",
      "  'M', 'u', 'h', 'a',\n",
      "  'm', 'm', 'a', 'd',\n",
      "  ' ', 'I', 'q', 'b',\n",
      "  'a', 'l'\n",
      "]\n"
     ]
    }
   ],
   "source": [
    "console.info(name.split(\"\"))"
   ]
  },
  {
   "cell_type": "code",
   "execution_count": 14,
   "id": "32e95e09",
   "metadata": {},
   "outputs": [
    {
     "name": "stdout",
     "output_type": "stream",
     "text": [
      "[ 'Muhammad', 'Iqbal' ]\n"
     ]
    }
   ],
   "source": [
    "console.info(name.split(\" \"))"
   ]
  },
  {
   "cell_type": "code",
   "execution_count": 15,
   "id": "867b9c8c",
   "metadata": {},
   "outputs": [],
   "source": [
    "var getInput = \"    input data      \""
   ]
  },
  {
   "cell_type": "code",
   "execution_count": 16,
   "id": "2d321d9d",
   "metadata": {},
   "outputs": [
    {
     "name": "stdout",
     "output_type": "stream",
     "text": [
      "input data\n"
     ]
    }
   ],
   "source": [
    "console.info(getInput.trim())"
   ]
  },
  {
   "cell_type": "markdown",
   "id": "1499d580",
   "metadata": {},
   "source": [
    "## Array"
   ]
  },
  {
   "cell_type": "code",
   "execution_count": 17,
   "id": "99e8ced1",
   "metadata": {},
   "outputs": [],
   "source": [
    "var array = [\"Muhammad\", \"iqbal\", \"Adudu\"]"
   ]
  },
  {
   "cell_type": "code",
   "execution_count": 18,
   "id": "55699d2c",
   "metadata": {},
   "outputs": [
    {
     "name": "stdout",
     "output_type": "stream",
     "text": [
      "0 : Muhammad\n",
      "1 : iqbal\n",
      "2 : Adudu\n"
     ]
    }
   ],
   "source": [
    "array.forEach((value, index) => {\n",
    "              console.info(`${index} : ${value}`)\n",
    "              })"
   ]
  },
  {
   "cell_type": "markdown",
   "id": "8e15f2b8",
   "metadata": {},
   "source": [
    "### Data Queue"
   ]
  },
  {
   "cell_type": "code",
   "execution_count": 19,
   "id": "83390f27",
   "metadata": {},
   "outputs": [],
   "source": [
    "var queue = []"
   ]
  },
  {
   "cell_type": "code",
   "execution_count": 20,
   "id": "13ed618b",
   "metadata": {},
   "outputs": [
    {
     "data": {
      "text/plain": [
       "1"
      ]
     },
     "execution_count": 20,
     "metadata": {},
     "output_type": "execute_result"
    }
   ],
   "source": [
    "// Menambah data dari akhir\n",
    "queue.push(\"Iqbal\")"
   ]
  },
  {
   "cell_type": "code",
   "execution_count": 21,
   "id": "5d4e5cdb",
   "metadata": {},
   "outputs": [
    {
     "data": {
      "text/plain": [
       "[ 'Iqbal' ]"
      ]
     },
     "execution_count": 21,
     "metadata": {},
     "output_type": "execute_result"
    }
   ],
   "source": [
    "queue"
   ]
  },
  {
   "cell_type": "code",
   "execution_count": 22,
   "id": "00a08b5a",
   "metadata": {},
   "outputs": [
    {
     "data": {
      "text/plain": [
       "'Iqbal'"
      ]
     },
     "execution_count": 22,
     "metadata": {},
     "output_type": "execute_result"
    }
   ],
   "source": [
    "// Menghapus data di awal\n",
    "queue.shift()"
   ]
  },
  {
   "cell_type": "code",
   "execution_count": 23,
   "id": "b2b84a47",
   "metadata": {},
   "outputs": [
    {
     "data": {
      "text/plain": [
       "[]"
      ]
     },
     "execution_count": 23,
     "metadata": {},
     "output_type": "execute_result"
    }
   ],
   "source": [
    "queue"
   ]
  },
  {
   "cell_type": "code",
   "execution_count": 24,
   "id": "b7cf2d8c",
   "metadata": {},
   "outputs": [
    {
     "data": {
      "text/plain": [
       "1"
      ]
     },
     "execution_count": 24,
     "metadata": {},
     "output_type": "execute_result"
    }
   ],
   "source": [
    "queue.push(\"Irma\")"
   ]
  },
  {
   "cell_type": "code",
   "execution_count": 25,
   "id": "b9d41412",
   "metadata": {},
   "outputs": [
    {
     "data": {
      "text/plain": [
       "2"
      ]
     },
     "execution_count": 25,
     "metadata": {},
     "output_type": "execute_result"
    }
   ],
   "source": [
    "queue.push(\"Bocah\")"
   ]
  },
  {
   "cell_type": "code",
   "execution_count": 26,
   "id": "ab7855f1",
   "metadata": {},
   "outputs": [
    {
     "data": {
      "text/plain": [
       "[ 'Irma', 'Bocah' ]"
      ]
     },
     "execution_count": 26,
     "metadata": {},
     "output_type": "execute_result"
    }
   ],
   "source": [
    "queue"
   ]
  },
  {
   "cell_type": "code",
   "execution_count": 27,
   "id": "62cb2ed5",
   "metadata": {},
   "outputs": [
    {
     "data": {
      "text/plain": [
       "'Bocah'"
      ]
     },
     "execution_count": 27,
     "metadata": {},
     "output_type": "execute_result"
    }
   ],
   "source": [
    "// Mengahapus array dari belakang\n",
    "queue.pop()"
   ]
  },
  {
   "cell_type": "code",
   "execution_count": 28,
   "id": "b3e7c057",
   "metadata": {},
   "outputs": [
    {
     "data": {
      "text/plain": [
       "[ 'Irma' ]"
      ]
     },
     "execution_count": 28,
     "metadata": {},
     "output_type": "execute_result"
    }
   ],
   "source": [
    "queue"
   ]
  },
  {
   "cell_type": "markdown",
   "id": "041f7dbd",
   "metadata": {},
   "source": [
    "### Array Search"
   ]
  },
  {
   "cell_type": "code",
   "execution_count": 29,
   "id": "fbd54b47",
   "metadata": {},
   "outputs": [],
   "source": [
    "var source = [1, 2, 3, 4, 5, 6, 7, 8, 9, 10]"
   ]
  },
  {
   "cell_type": "code",
   "execution_count": 30,
   "id": "1ad40a80",
   "metadata": {},
   "outputs": [
    {
     "name": "stdout",
     "output_type": "stream",
     "text": [
      "4\n"
     ]
    }
   ],
   "source": [
    "// find => mencari data sesuai kondisi, akan berhenti jika true\n",
    "console.info(source.find(value => value > 3))"
   ]
  },
  {
   "cell_type": "code",
   "execution_count": 31,
   "id": "98c299b0",
   "metadata": {},
   "outputs": [
    {
     "data": {
      "text/plain": [
       "3"
      ]
     },
     "execution_count": 31,
     "metadata": {},
     "output_type": "execute_result"
    }
   ],
   "source": [
    "// find index\n",
    "source.findIndex(value => value > 3)"
   ]
  },
  {
   "cell_type": "code",
   "execution_count": 32,
   "id": "901ad94d",
   "metadata": {},
   "outputs": [
    {
     "data": {
      "text/plain": [
       "true"
      ]
     },
     "execution_count": 32,
     "metadata": {},
     "output_type": "execute_result"
    }
   ],
   "source": [
    "// includes\n",
    "source.includes(7)"
   ]
  },
  {
   "cell_type": "code",
   "execution_count": 33,
   "id": "e810ab04",
   "metadata": {},
   "outputs": [
    {
     "data": {
      "text/plain": [
       "4"
      ]
     },
     "execution_count": 33,
     "metadata": {},
     "output_type": "execute_result"
    }
   ],
   "source": [
    "// Index of\n",
    "source.indexOf(5)"
   ]
  },
  {
   "cell_type": "code",
   "execution_count": 34,
   "id": "79d3aedf",
   "metadata": {},
   "outputs": [
    {
     "data": {
      "text/plain": [
       "9"
      ]
     },
     "execution_count": 34,
     "metadata": {},
     "output_type": "execute_result"
    }
   ],
   "source": [
    "// Last indexOf\n",
    "source.lastIndexOf(10)"
   ]
  },
  {
   "cell_type": "markdown",
   "id": "19297da6",
   "metadata": {},
   "source": [
    "### Array Filter"
   ]
  },
  {
   "cell_type": "code",
   "execution_count": 35,
   "id": "2f1c5e05",
   "metadata": {},
   "outputs": [
    {
     "data": {
      "text/plain": [
       "[ 2, 4, 6, 8, 10 ]"
      ]
     },
     "execution_count": 35,
     "metadata": {},
     "output_type": "execute_result"
    }
   ],
   "source": [
    "// Mengembalikan boolean\n",
    "source.filter(value => value % 2 === 0)"
   ]
  },
  {
   "cell_type": "code",
   "execution_count": 36,
   "id": "55070d1c",
   "metadata": {},
   "outputs": [
    {
     "data": {
      "text/plain": [
       "[ 1, 3, 5, 7, 9 ]"
      ]
     },
     "execution_count": 36,
     "metadata": {},
     "output_type": "execute_result"
    }
   ],
   "source": [
    "source.filter(value => value % 2 === 1)"
   ]
  },
  {
   "cell_type": "markdown",
   "id": "a58ae0e7",
   "metadata": {},
   "source": [
    "### Array Transform"
   ]
  },
  {
   "cell_type": "code",
   "execution_count": 37,
   "id": "0db7d1c2",
   "metadata": {},
   "outputs": [],
   "source": [
    "// Map => melelakukan transform tiap varlueOf dan menghasilkan array result\n",
    "var names = [\"Muhammad\", \"Iqbal\", \"Gustia\"]\n",
    "var namesUpper = names.map(value => value.toUpperCase())"
   ]
  },
  {
   "cell_type": "code",
   "execution_count": 38,
   "id": "5ae5bb9b",
   "metadata": {},
   "outputs": [
    {
     "data": {
      "text/plain": [
       "[ 'MUHAMMAD', 'IQBAL', 'GUSTIA' ]"
      ]
     },
     "execution_count": 38,
     "metadata": {},
     "output_type": "execute_result"
    }
   ],
   "source": [
    "namesUpper"
   ]
  },
  {
   "cell_type": "code",
   "execution_count": 39,
   "id": "87cda223",
   "metadata": {},
   "outputs": [],
   "source": [
    "// Reduce\n",
    "var namesReduce = names.reduce((before, value) => before + \" \" + value)"
   ]
  },
  {
   "cell_type": "code",
   "execution_count": 40,
   "id": "338b3ebb",
   "metadata": {},
   "outputs": [
    {
     "data": {
      "text/plain": [
       "'Muhammad Iqbal Gustia'"
      ]
     },
     "execution_count": 40,
     "metadata": {},
     "output_type": "execute_result"
    }
   ],
   "source": [
    "namesReduce"
   ]
  },
  {
   "cell_type": "code",
   "execution_count": 41,
   "id": "fa84c35e",
   "metadata": {},
   "outputs": [],
   "source": [
    "// Reduce Right\n",
    "var namesRight = names.reduceRight((before, value) => before + \" \" + value)"
   ]
  },
  {
   "cell_type": "code",
   "execution_count": 42,
   "id": "2a0ea1d1",
   "metadata": {},
   "outputs": [
    {
     "data": {
      "text/plain": [
       "'Gustia Iqbal Muhammad'"
      ]
     },
     "execution_count": 42,
     "metadata": {},
     "output_type": "execute_result"
    }
   ],
   "source": [
    "namesRight"
   ]
  },
  {
   "cell_type": "code",
   "execution_count": 43,
   "id": "c659bd60",
   "metadata": {},
   "outputs": [
    {
     "data": {
      "text/plain": [
       "55"
      ]
     },
     "execution_count": 43,
     "metadata": {},
     "output_type": "execute_result"
    }
   ],
   "source": [
    "source.reduce((before, value) => before + value)"
   ]
  },
  {
   "cell_type": "markdown",
   "id": "32a5f94f",
   "metadata": {},
   "source": [
    "### Object"
   ]
  },
  {
   "cell_type": "code",
   "execution_count": 44,
   "id": "5dcbf713",
   "metadata": {},
   "outputs": [
    {
     "data": {
      "text/plain": [
       "{ firstName: 'Muhammad', lastName: 'Iqbal' }"
      ]
     },
     "execution_count": 44,
     "metadata": {},
     "output_type": "execute_result"
    }
   ],
   "source": [
    "// Freeze digunakan untuk mengubah object menjadi tidak bisa diubah atau dihapus atributnya\n",
    "var person = {\n",
    "    firstName: \"Muhammad\",\n",
    "    lastName: \"Iqbal\"\n",
    "}\n",
    "Object.freeze(person)"
   ]
  },
  {
   "cell_type": "code",
   "execution_count": 45,
   "id": "5e7b01a4",
   "metadata": {},
   "outputs": [
    {
     "data": {
      "text/plain": [
       "'Diubah'"
      ]
     },
     "execution_count": 45,
     "metadata": {},
     "output_type": "execute_result"
    }
   ],
   "source": [
    "person.firstName = \"Diubah\""
   ]
  },
  {
   "cell_type": "code",
   "execution_count": 46,
   "id": "75b60cd8",
   "metadata": {},
   "outputs": [
    {
     "data": {
      "text/plain": [
       "{ firstName: 'Muhammad', lastName: 'Iqbal' }"
      ]
     },
     "execution_count": 46,
     "metadata": {},
     "output_type": "execute_result"
    }
   ],
   "source": [
    "person //tidak berubah"
   ]
  },
  {
   "cell_type": "code",
   "execution_count": 47,
   "id": "14152a4e",
   "metadata": {},
   "outputs": [
    {
     "data": {
      "text/plain": [
       "false"
      ]
     },
     "execution_count": 47,
     "metadata": {},
     "output_type": "execute_result"
    }
   ],
   "source": [
    "delete person.firstName // Tidak bisa dihapus"
   ]
  },
  {
   "cell_type": "code",
   "execution_count": 48,
   "id": "b5d7599a",
   "metadata": {},
   "outputs": [
    {
     "data": {
      "text/plain": [
       "{ firstName: 'Muhammad', lastName: 'Iqbal' }"
      ]
     },
     "execution_count": 48,
     "metadata": {},
     "output_type": "execute_result"
    }
   ],
   "source": [
    "// Seal digunakan untuk mengubah object menjadi tidak bisa dihapus attributnya\n",
    "var insan = {\n",
    "    firstName: \"Muhammad\",\n",
    "    lastName: \"Iqbal\"\n",
    "}\n",
    "Object.seal(insan)"
   ]
  },
  {
   "cell_type": "code",
   "execution_count": 49,
   "id": "5c2701bb",
   "metadata": {},
   "outputs": [
    {
     "data": {
      "text/plain": [
       "'Irma'"
      ]
     },
     "execution_count": 49,
     "metadata": {},
     "output_type": "execute_result"
    }
   ],
   "source": [
    "insan.firstName = \"Irma\""
   ]
  },
  {
   "cell_type": "code",
   "execution_count": 50,
   "id": "b43e436e",
   "metadata": {},
   "outputs": [
    {
     "data": {
      "text/plain": [
       "'Irma'"
      ]
     },
     "execution_count": 50,
     "metadata": {},
     "output_type": "execute_result"
    }
   ],
   "source": [
    "insan.firstName // berubah"
   ]
  },
  {
   "cell_type": "code",
   "execution_count": 51,
   "id": "2a088bb1",
   "metadata": {},
   "outputs": [
    {
     "data": {
      "text/plain": [
       "false"
      ]
     },
     "execution_count": 51,
     "metadata": {},
     "output_type": "execute_result"
    }
   ],
   "source": [
    "delete insan.firstName // Tapi tidak bisa dihapus"
   ]
  },
  {
   "cell_type": "markdown",
   "id": "6d0f5add",
   "metadata": {},
   "source": [
    "### Object Assign\n",
    "#### Menggabungkan semua atribut dari sebuah objek ke objek lain"
   ]
  },
  {
   "cell_type": "code",
   "execution_count": 52,
   "id": "78625ac7",
   "metadata": {},
   "outputs": [],
   "source": [
    "var target = {firstName: \"Muhammad\"}\n",
    "var source = {lastName: \"Iqbal\"}"
   ]
  },
  {
   "cell_type": "code",
   "execution_count": 53,
   "id": "1c5a7404",
   "metadata": {},
   "outputs": [
    {
     "data": {
      "text/plain": [
       "{ firstName: 'Muhammad', lastName: 'Iqbal' }"
      ]
     },
     "execution_count": 53,
     "metadata": {},
     "output_type": "execute_result"
    }
   ],
   "source": [
    "Object.assign(target, source)"
   ]
  },
  {
   "cell_type": "code",
   "execution_count": 54,
   "id": "1d344fdd",
   "metadata": {},
   "outputs": [
    {
     "data": {
      "text/plain": [
       "{ firstName: 'Muhammad', lastName: 'Iqbal' }"
      ]
     },
     "execution_count": 54,
     "metadata": {},
     "output_type": "execute_result"
    }
   ],
   "source": [
    "target"
   ]
  },
  {
   "cell_type": "markdown",
   "id": "a89e4f8b",
   "metadata": {},
   "source": [
    "## Object Property Name & Value"
   ]
  },
  {
   "cell_type": "code",
   "execution_count": 55,
   "id": "62b65808",
   "metadata": {},
   "outputs": [],
   "source": [
    "var person = {\n",
    "    firstName: \"Muhamamd\",\n",
    "    lastName: \"Iqbal\"\n",
    "}"
   ]
  },
  {
   "cell_type": "code",
   "execution_count": 56,
   "id": "f658cae8",
   "metadata": {},
   "outputs": [
    {
     "data": {
      "text/plain": [
       "[ 'Muhamamd', 'Iqbal' ]"
      ]
     },
     "execution_count": 56,
     "metadata": {},
     "output_type": "execute_result"
    }
   ],
   "source": [
    "// Get value\n",
    "Object.values(person)"
   ]
  },
  {
   "cell_type": "code",
   "execution_count": 57,
   "id": "fe386cf3",
   "metadata": {},
   "outputs": [
    {
     "data": {
      "text/plain": [
       "[ 'firstName', 'lastName' ]"
      ]
     },
     "execution_count": 57,
     "metadata": {},
     "output_type": "execute_result"
    }
   ],
   "source": [
    "// Get property\n",
    "Object.getOwnPropertyNames(person)"
   ]
  },
  {
   "cell_type": "markdown",
   "id": "23c08eb8",
   "metadata": {},
   "source": [
    "## JSON"
   ]
  },
  {
   "cell_type": "code",
   "execution_count": 58,
   "id": "d958ba0f",
   "metadata": {},
   "outputs": [],
   "source": [
    "var bio = {\n",
    "    nama: \"Muhammad Iqbal\",\n",
    "    alamat: \"Cairo, Egypt\",\n",
    "    hobbies: [\n",
    "        \"Coding\",\n",
    "        \"Belajar\"\n",
    "    ]\n",
    "}"
   ]
  },
  {
   "cell_type": "code",
   "execution_count": 59,
   "id": "2f6a9872",
   "metadata": {},
   "outputs": [],
   "source": [
    "// Konversi ke JSON\n",
    "var json = JSON.stringify(bio)"
   ]
  },
  {
   "cell_type": "code",
   "execution_count": 60,
   "id": "e96a2962",
   "metadata": {},
   "outputs": [
    {
     "data": {
      "text/plain": [
       "'{\"nama\":\"Muhammad Iqbal\",\"alamat\":\"Cairo, Egypt\",\"hobbies\":[\"Coding\",\"Belajar\"]}'"
      ]
     },
     "execution_count": 60,
     "metadata": {},
     "output_type": "execute_result"
    }
   ],
   "source": [
    "json"
   ]
  },
  {
   "cell_type": "code",
   "execution_count": 61,
   "id": "a923b684",
   "metadata": {},
   "outputs": [],
   "source": [
    "// Parsing JSON\n",
    "var toObject = JSON.parse(json)"
   ]
  },
  {
   "cell_type": "code",
   "execution_count": 62,
   "id": "f9ab0fd9",
   "metadata": {},
   "outputs": [
    {
     "data": {
      "text/plain": [
       "{\n",
       "  nama: 'Muhammad Iqbal',\n",
       "  alamat: 'Cairo, Egypt',\n",
       "  hobbies: [ 'Coding', 'Belajar' ]\n",
       "}"
      ]
     },
     "execution_count": 62,
     "metadata": {},
     "output_type": "execute_result"
    }
   ],
   "source": [
    "toObject"
   ]
  },
  {
   "cell_type": "markdown",
   "id": "4fa76cbf",
   "metadata": {},
   "source": [
    "## Date"
   ]
  },
  {
   "cell_type": "code",
   "execution_count": 63,
   "id": "d6ee26c9",
   "metadata": {},
   "outputs": [],
   "source": [
    "// Membuat date saat ini\n",
    "var date1 = new Date()"
   ]
  },
  {
   "cell_type": "code",
   "execution_count": 64,
   "id": "0783bed2",
   "metadata": {},
   "outputs": [
    {
     "data": {
      "text/plain": [
       "2021-09-28T08:03:18.325Z"
      ]
     },
     "execution_count": 64,
     "metadata": {},
     "output_type": "execute_result"
    }
   ],
   "source": [
    "date1"
   ]
  },
  {
   "cell_type": "code",
   "execution_count": 65,
   "id": "43d029b5",
   "metadata": {},
   "outputs": [],
   "source": [
    "// Membuat dengan tanggal\n",
    "var date2 = new Date(2020, 10, 10)"
   ]
  },
  {
   "cell_type": "code",
   "execution_count": 66,
   "id": "33f68f34",
   "metadata": {},
   "outputs": [
    {
     "data": {
      "text/plain": [
       "2020-11-09T22:00:00.000Z"
      ]
     },
     "execution_count": 66,
     "metadata": {},
     "output_type": "execute_result"
    }
   ],
   "source": [
    "date2"
   ]
  },
  {
   "cell_type": "code",
   "execution_count": 67,
   "id": "f5812487",
   "metadata": {},
   "outputs": [
    {
     "data": {
      "text/plain": [
       "1632816198338"
      ]
     },
     "execution_count": 67,
     "metadata": {},
     "output_type": "execute_result"
    }
   ],
   "source": [
    "// Epoch/Unix Timestamp\n",
    "Date.now()"
   ]
  },
  {
   "cell_type": "code",
   "execution_count": 68,
   "id": "ce91515d",
   "metadata": {},
   "outputs": [
    {
     "data": {
      "text/plain": [
       "28"
      ]
     },
     "execution_count": 68,
     "metadata": {},
     "output_type": "execute_result"
    }
   ],
   "source": [
    "date1.getDate()"
   ]
  },
  {
   "cell_type": "code",
   "execution_count": 69,
   "id": "78c5b50e",
   "metadata": {},
   "outputs": [
    {
     "data": {
      "text/plain": [
       "2021"
      ]
     },
     "execution_count": 69,
     "metadata": {},
     "output_type": "execute_result"
    }
   ],
   "source": [
    "date1.getFullYear()"
   ]
  },
  {
   "cell_type": "code",
   "execution_count": 70,
   "id": "71584fc9",
   "metadata": {},
   "outputs": [
    {
     "data": {
      "text/plain": [
       "1632816198325"
      ]
     },
     "execution_count": 70,
     "metadata": {},
     "output_type": "execute_result"
    }
   ],
   "source": [
    "date1.getTime()"
   ]
  },
  {
   "cell_type": "markdown",
   "id": "f8cedd32",
   "metadata": {},
   "source": [
    "### Parsing Date"
   ]
  },
  {
   "cell_type": "code",
   "execution_count": 71,
   "id": "39e2b3a9",
   "metadata": {},
   "outputs": [],
   "source": [
    "var parseTimestamp = Date.parse(\"2020-12-18T08:45:45.123+07:00\")"
   ]
  },
  {
   "cell_type": "code",
   "execution_count": 72,
   "id": "9ef183b0",
   "metadata": {},
   "outputs": [
    {
     "data": {
      "text/plain": [
       "1608255945123"
      ]
     },
     "execution_count": 72,
     "metadata": {},
     "output_type": "execute_result"
    }
   ],
   "source": [
    "parseTimestamp"
   ]
  },
  {
   "cell_type": "code",
   "execution_count": 73,
   "id": "040afac4",
   "metadata": {},
   "outputs": [],
   "source": [
    "// parsing dari timestamp ke format tanggal\n",
    "var date = new Date(parseTimestamp)"
   ]
  },
  {
   "cell_type": "code",
   "execution_count": 74,
   "id": "3b93b106",
   "metadata": {},
   "outputs": [
    {
     "data": {
      "text/plain": [
       "2020-12-18T01:45:45.123Z"
      ]
     },
     "execution_count": 74,
     "metadata": {},
     "output_type": "execute_result"
    }
   ],
   "source": [
    "date"
   ]
  },
  {
   "cell_type": "markdown",
   "id": "9231e2ad",
   "metadata": {},
   "source": [
    "### Date Getter"
   ]
  },
  {
   "cell_type": "code",
   "execution_count": 75,
   "id": "16c3f7e2",
   "metadata": {},
   "outputs": [],
   "source": [
    "var date = new Date()"
   ]
  },
  {
   "cell_type": "code",
   "execution_count": 76,
   "id": "0a1a2859",
   "metadata": {},
   "outputs": [
    {
     "data": {
      "text/plain": [
       "2021"
      ]
     },
     "execution_count": 76,
     "metadata": {},
     "output_type": "execute_result"
    }
   ],
   "source": [
    "date.getFullYear()"
   ]
  },
  {
   "cell_type": "code",
   "execution_count": 77,
   "id": "baa53d7e",
   "metadata": {},
   "outputs": [
    {
     "data": {
      "text/plain": [
       "8"
      ]
     },
     "execution_count": 77,
     "metadata": {},
     "output_type": "execute_result"
    }
   ],
   "source": [
    "date.getMonth()"
   ]
  },
  {
   "cell_type": "code",
   "execution_count": 78,
   "id": "cad22d5f",
   "metadata": {},
   "outputs": [
    {
     "data": {
      "text/plain": [
       "2"
      ]
     },
     "execution_count": 78,
     "metadata": {},
     "output_type": "execute_result"
    }
   ],
   "source": [
    "date.getDay()"
   ]
  },
  {
   "cell_type": "markdown",
   "id": "de941eba",
   "metadata": {},
   "source": [
    "## Math"
   ]
  },
  {
   "cell_type": "code",
   "execution_count": 79,
   "id": "b44536d7",
   "metadata": {},
   "outputs": [
    {
     "data": {
      "text/plain": [
       "7"
      ]
     },
     "execution_count": 79,
     "metadata": {},
     "output_type": "execute_result"
    }
   ],
   "source": [
    "Math.max(1, 2, 3, 4, 5, 6, 7)"
   ]
  },
  {
   "cell_type": "code",
   "execution_count": 80,
   "id": "bf345f72",
   "metadata": {},
   "outputs": [
    {
     "data": {
      "text/plain": [
       "1"
      ]
     },
     "execution_count": 80,
     "metadata": {},
     "output_type": "execute_result"
    }
   ],
   "source": [
    "Math.min(1, 2, 3, 4, 5, 6, 7)"
   ]
  },
  {
   "cell_type": "code",
   "execution_count": 81,
   "id": "7193d82f",
   "metadata": {},
   "outputs": [
    {
     "data": {
      "text/plain": [
       "11"
      ]
     },
     "execution_count": 81,
     "metadata": {},
     "output_type": "execute_result"
    }
   ],
   "source": [
    "Math.round(10.5)"
   ]
  },
  {
   "cell_type": "code",
   "execution_count": 82,
   "id": "bc132c19",
   "metadata": {},
   "outputs": [
    {
     "data": {
      "text/plain": [
       "10"
      ]
     },
     "execution_count": 82,
     "metadata": {},
     "output_type": "execute_result"
    }
   ],
   "source": [
    "Math.round(10.2)"
   ]
  },
  {
   "cell_type": "code",
   "execution_count": 83,
   "id": "8cc3b3a4",
   "metadata": {},
   "outputs": [
    {
     "data": {
      "text/plain": [
       "10"
      ]
     },
     "execution_count": 83,
     "metadata": {},
     "output_type": "execute_result"
    }
   ],
   "source": [
    "Math.floor(10.8)"
   ]
  },
  {
   "cell_type": "code",
   "execution_count": 84,
   "id": "511d2316",
   "metadata": {},
   "outputs": [
    {
     "data": {
      "text/plain": [
       "10"
      ]
     },
     "execution_count": 84,
     "metadata": {},
     "output_type": "execute_result"
    }
   ],
   "source": [
    "Math.floor(10.4)"
   ]
  },
  {
   "cell_type": "code",
   "execution_count": 85,
   "id": "cbccecb4",
   "metadata": {},
   "outputs": [
    {
     "data": {
      "text/plain": [
       "11"
      ]
     },
     "execution_count": 85,
     "metadata": {},
     "output_type": "execute_result"
    }
   ],
   "source": [
    "Math.ceil(10.3)"
   ]
  },
  {
   "cell_type": "markdown",
   "id": "5e0c0383",
   "metadata": {},
   "source": [
    "## Boolean"
   ]
  },
  {
   "cell_type": "code",
   "execution_count": 86,
   "id": "87b1b2c0",
   "metadata": {},
   "outputs": [],
   "source": [
    "var boolean = Boolean(true)"
   ]
  },
  {
   "cell_type": "code",
   "execution_count": 87,
   "id": "7299a2cf",
   "metadata": {},
   "outputs": [
    {
     "data": {
      "text/plain": [
       "'true'"
      ]
     },
     "execution_count": 87,
     "metadata": {},
     "output_type": "execute_result"
    }
   ],
   "source": [
    "boolean.toString()"
   ]
  },
  {
   "cell_type": "markdown",
   "id": "1c267051",
   "metadata": {},
   "source": [
    "## Map\n",
    "### Representasi dari struktur data key-value"
   ]
  },
  {
   "cell_type": "code",
   "execution_count": 88,
   "id": "0acc5e6c",
   "metadata": {},
   "outputs": [],
   "source": [
    "var map = new Map()"
   ]
  },
  {
   "cell_type": "code",
   "execution_count": 89,
   "id": "c396d39f",
   "metadata": {},
   "outputs": [
    {
     "data": {
      "text/plain": [
       "Map(1) { 'Name' => 'Muhammad Iqbal' }"
      ]
     },
     "execution_count": 89,
     "metadata": {},
     "output_type": "execute_result"
    }
   ],
   "source": [
    "map.set(\"Name\", \"Muhammad Iqbal\")"
   ]
  },
  {
   "cell_type": "code",
   "execution_count": 90,
   "id": "3aaf40a8",
   "metadata": {},
   "outputs": [
    {
     "data": {
      "text/plain": [
       "Map(2) { 'Name' => 'Muhammad Iqbal', 'Alamat' => 'Indonesia' }"
      ]
     },
     "execution_count": 90,
     "metadata": {},
     "output_type": "execute_result"
    }
   ],
   "source": [
    "map.set(\"Alamat\", \"Indonesia\")"
   ]
  },
  {
   "cell_type": "code",
   "execution_count": 91,
   "id": "227d34cd",
   "metadata": {},
   "outputs": [
    {
     "data": {
      "text/plain": [
       "'Muhammad Iqbal'"
      ]
     },
     "execution_count": 91,
     "metadata": {},
     "output_type": "execute_result"
    }
   ],
   "source": [
    "map.get(\"Name\")"
   ]
  },
  {
   "cell_type": "code",
   "execution_count": 92,
   "id": "07729d7b",
   "metadata": {},
   "outputs": [
    {
     "name": "stdout",
     "output_type": "stream",
     "text": [
      "Name Muhammad Iqbal\n",
      "Alamat Indonesia\n"
     ]
    }
   ],
   "source": [
    "for (let element of map) {\n",
    "    console.log(element[0], element[1])\n",
    "}"
   ]
  },
  {
   "cell_type": "code",
   "execution_count": 93,
   "id": "8b473c08",
   "metadata": {},
   "outputs": [
    {
     "name": "stdout",
     "output_type": "stream",
     "text": [
      "Name Muhammad Iqbal\n",
      "Alamat Indonesia\n"
     ]
    }
   ],
   "source": [
    "map.forEach((value, key) => console.log(key, value))"
   ]
  },
  {
   "cell_type": "markdown",
   "id": "984de024",
   "metadata": {},
   "source": [
    "## Set"
   ]
  },
  {
   "cell_type": "code",
   "execution_count": 94,
   "id": "01273e90",
   "metadata": {},
   "outputs": [],
   "source": [
    "// Nilainya di dalamnya harus unik, tidak boleh ada duplikasi\n",
    "var set = new Set()"
   ]
  },
  {
   "cell_type": "code",
   "execution_count": 95,
   "id": "6b6251ca",
   "metadata": {},
   "outputs": [
    {
     "data": {
      "text/plain": [
       "Set(1) { 'Muhammad' }"
      ]
     },
     "execution_count": 95,
     "metadata": {},
     "output_type": "execute_result"
    }
   ],
   "source": [
    "set.add(\"Muhammad\")"
   ]
  },
  {
   "cell_type": "code",
   "execution_count": 96,
   "id": "c74051d9",
   "metadata": {},
   "outputs": [
    {
     "data": {
      "text/plain": [
       "Set(1) { 'Muhammad' }"
      ]
     },
     "execution_count": 96,
     "metadata": {},
     "output_type": "execute_result"
    }
   ],
   "source": [
    "set.add(\"Muhammad\")"
   ]
  },
  {
   "cell_type": "code",
   "execution_count": 97,
   "id": "ea2d0845",
   "metadata": {},
   "outputs": [
    {
     "data": {
      "text/plain": [
       "Set(2) { 'Muhammad', 'Iqbal' }"
      ]
     },
     "execution_count": 97,
     "metadata": {},
     "output_type": "execute_result"
    }
   ],
   "source": [
    "set.add(\"Iqbal\")"
   ]
  },
  {
   "cell_type": "code",
   "execution_count": 98,
   "id": "0ab0d7d7",
   "metadata": {},
   "outputs": [
    {
     "data": {
      "text/plain": [
       "Set(2) { 'Muhammad', 'Iqbal' }"
      ]
     },
     "execution_count": 98,
     "metadata": {},
     "output_type": "execute_result"
    }
   ],
   "source": [
    "set.add(\"Iqbal\")"
   ]
  },
  {
   "cell_type": "code",
   "execution_count": 99,
   "id": "e0f247fc",
   "metadata": {},
   "outputs": [
    {
     "name": "stdout",
     "output_type": "stream",
     "text": [
      "Muhammad\n",
      "Iqbal\n"
     ]
    }
   ],
   "source": [
    "set.forEach((value) => console.info(value))"
   ]
  },
  {
   "cell_type": "markdown",
   "id": "1a43d740",
   "metadata": {},
   "source": [
    "## Symbol"
   ]
  },
  {
   "cell_type": "code",
   "execution_count": 100,
   "id": "7bc23c1b",
   "metadata": {},
   "outputs": [],
   "source": [
    "var firstName = Symbol(\"firstName\")"
   ]
  },
  {
   "cell_type": "code",
   "execution_count": 101,
   "id": "12e2b3fb",
   "metadata": {},
   "outputs": [],
   "source": [
    "var lastName = Symbol(\"lastName\")"
   ]
  },
  {
   "cell_type": "code",
   "execution_count": 102,
   "id": "f98b3b44",
   "metadata": {},
   "outputs": [],
   "source": [
    "var person = {}"
   ]
  },
  {
   "cell_type": "code",
   "execution_count": 103,
   "id": "306b05d3",
   "metadata": {},
   "outputs": [
    {
     "data": {
      "text/plain": [
       "'Irma'"
      ]
     },
     "execution_count": 103,
     "metadata": {},
     "output_type": "execute_result"
    }
   ],
   "source": [
    "person[firstName] = \"Iqbal\"\n",
    "person[lastName] = \"Irma\""
   ]
  },
  {
   "cell_type": "code",
   "execution_count": 104,
   "id": "a6eb5ce6",
   "metadata": {},
   "outputs": [
    {
     "data": {
      "text/plain": [
       "{ [Symbol(firstName)]: 'Iqbal', [Symbol(lastName)]: 'Irma' }"
      ]
     },
     "execution_count": 104,
     "metadata": {},
     "output_type": "execute_result"
    }
   ],
   "source": [
    "person"
   ]
  },
  {
   "cell_type": "code",
   "execution_count": 105,
   "id": "99becb27",
   "metadata": {},
   "outputs": [
    {
     "data": {
      "text/plain": [
       "'Cairo'"
      ]
     },
     "execution_count": 105,
     "metadata": {},
     "output_type": "execute_result"
    }
   ],
   "source": [
    "// Symbol for\n",
    "person[Symbol.for(\"Alamat\")] = \"Cairo\""
   ]
  },
  {
   "cell_type": "code",
   "execution_count": 106,
   "id": "3a41e688",
   "metadata": {},
   "outputs": [
    {
     "data": {
      "text/plain": [
       "{\n",
       "  [Symbol(firstName)]: 'Iqbal',\n",
       "  [Symbol(lastName)]: 'Irma',\n",
       "  [Symbol(Alamat)]: 'Cairo'\n",
       "}"
      ]
     },
     "execution_count": 106,
     "metadata": {},
     "output_type": "execute_result"
    }
   ],
   "source": [
    "person"
   ]
  },
  {
   "cell_type": "code",
   "execution_count": 107,
   "id": "d2d1ba13",
   "metadata": {},
   "outputs": [
    {
     "data": {
      "text/plain": [
       "'Iqbal'"
      ]
     },
     "execution_count": 107,
     "metadata": {},
     "output_type": "execute_result"
    }
   ],
   "source": [
    "person[firstName]"
   ]
  },
  {
   "cell_type": "markdown",
   "id": "31e7b0eb",
   "metadata": {},
   "source": [
    "## RegExp"
   ]
  },
  {
   "cell_type": "code",
   "execution_count": 108,
   "id": "86a690b9",
   "metadata": {},
   "outputs": [],
   "source": [
    "// Create regex\n",
    "var regex1 = /iqbal/\n",
    "var regex2 = new RegExp(\"iqbal\")\n",
    "var regex3 = new RegExp(/iqbal/)"
   ]
  },
  {
   "cell_type": "markdown",
   "id": "547b98e0",
   "metadata": {},
   "source": [
    "### Instance Method"
   ]
  },
  {
   "cell_type": "code",
   "execution_count": 109,
   "id": "54a040e4",
   "metadata": {},
   "outputs": [],
   "source": [
    "var names = \"Muhammad Iqbal\""
   ]
  },
  {
   "cell_type": "code",
   "execution_count": 117,
   "id": "fd87918a",
   "metadata": {},
   "outputs": [],
   "source": [
    "var regex = /Iqbal/"
   ]
  },
  {
   "cell_type": "code",
   "execution_count": 118,
   "id": "a780cc4d",
   "metadata": {},
   "outputs": [
    {
     "data": {
      "text/plain": [
       "[ 'Iqbal', index: 9, input: 'Muhammad Iqbal', groups: undefined ]"
      ]
     },
     "execution_count": 118,
     "metadata": {},
     "output_type": "execute_result"
    }
   ],
   "source": [
    "// Exec method ==> mengembalikan result\n",
    "regex.exec(names)"
   ]
  },
  {
   "cell_type": "code",
   "execution_count": 120,
   "id": "2398bbb7-f436-4c26-9b40-55c2f9b72e40",
   "metadata": {},
   "outputs": [
    {
     "data": {
      "text/plain": [
       "true"
      ]
     },
     "execution_count": 120,
     "metadata": {},
     "output_type": "execute_result"
    }
   ],
   "source": [
    "// Test => mengembalikan boolean\n",
    "regex.test(name)"
   ]
  },
  {
   "cell_type": "code",
   "execution_count": 121,
   "id": "5a6143aa-1dca-48ee-8cdd-918584991ae5",
   "metadata": {},
   "outputs": [
    {
     "data": {
      "text/plain": [
       "false"
      ]
     },
     "execution_count": 121,
     "metadata": {},
     "output_type": "execute_result"
    }
   ],
   "source": [
    "regex.test(\"Halo\")"
   ]
  },
  {
   "cell_type": "code",
   "execution_count": 122,
   "id": "75e989f8-94f7-4b54-b11a-a7dc4ca0da59",
   "metadata": {},
   "outputs": [
    {
     "data": {
      "text/plain": [
       "true"
      ]
     },
     "execution_count": 122,
     "metadata": {},
     "output_type": "execute_result"
    }
   ],
   "source": [
    "regex.test(/Iqbal/)"
   ]
  },
  {
   "cell_type": "markdown",
   "id": "6837cfa7-d3de-4a89-969e-00ac42f9cb2f",
   "metadata": {},
   "source": [
    "### Regex Modifier"
   ]
  },
  {
   "cell_type": "markdown",
   "id": "317272b2-5c87-452b-943a-4852c1ce0f5d",
   "metadata": {},
   "source": [
    "<ul>\n",
    "    <li>\n",
    "        `i` => Regex menjadi incase sensitive\n",
    "    </li>\n",
    "    <li>\n",
    "        `g` => Pencarian dilakukan secara global, setelah<br> menemukan data, defaultnya pencarian akan berhenti\n",
    "    </li>\n",
    "    <li>\n",
    "        `m` => Pencarian dilakukan di tiap baris\n",
    "    </li>\n",
    "</ul>"
   ]
  },
  {
   "cell_type": "code",
   "execution_count": 144,
   "id": "a1b8d6ed-67de-4c71-ae72-3ebe78e626e0",
   "metadata": {},
   "outputs": [],
   "source": [
    "var nama = \"Muhammad Iqbal Adudu\\nMuhammad Iqbal Adudu\\nMuhammad Iqbal Adudu\\nmuhammad iqbal adudu\""
   ]
  },
  {
   "cell_type": "code",
   "execution_count": 145,
   "id": "42182c90-460a-4afd-854d-e2c74634f558",
   "metadata": {},
   "outputs": [],
   "source": [
    "var regex = /Iqbal/g"
   ]
  },
  {
   "cell_type": "code",
   "execution_count": 146,
   "id": "8d7f5f38-abf4-4b4e-ac84-a13e09ec5691",
   "metadata": {},
   "outputs": [],
   "source": [
    "var regex2 = /iqbal/ig // incase sensitive dan global"
   ]
  },
  {
   "cell_type": "code",
   "execution_count": 147,
   "id": "89b8f756-ca6d-4f88-a7cf-71bc91c4c38b",
   "metadata": {},
   "outputs": [],
   "source": [
    "var hasil"
   ]
  },
  {
   "cell_type": "code",
   "execution_count": 149,
   "id": "54a8b812-c402-4ef5-9b18-84b7dc2fe8e4",
   "metadata": {},
   "outputs": [
    {
     "name": "stdout",
     "output_type": "stream",
     "text": [
      "[\n",
      "  'Iqbal',\n",
      "  index: 9,\n",
      "  input: 'Muhammad Iqbal Adudu\\n' +\n",
      "    'Muhammad Iqbal Adudu\\n' +\n",
      "    'Muhammad Iqbal Adudu\\n' +\n",
      "    'muhammad iqbal adudu',\n",
      "  groups: undefined\n",
      "]\n",
      "[\n",
      "  'Iqbal',\n",
      "  index: 30,\n",
      "  input: 'Muhammad Iqbal Adudu\\n' +\n",
      "    'Muhammad Iqbal Adudu\\n' +\n",
      "    'Muhammad Iqbal Adudu\\n' +\n",
      "    'muhammad iqbal adudu',\n",
      "  groups: undefined\n",
      "]\n",
      "[\n",
      "  'Iqbal',\n",
      "  index: 51,\n",
      "  input: 'Muhammad Iqbal Adudu\\n' +\n",
      "    'Muhammad Iqbal Adudu\\n' +\n",
      "    'Muhammad Iqbal Adudu\\n' +\n",
      "    'muhammad iqbal adudu',\n",
      "  groups: undefined\n",
      "]\n"
     ]
    }
   ],
   "source": [
    "// Pencarian global\n",
    "while((hasil = regex.exec(nama)) !== null) {\n",
    "    console.info(hasil)\n",
    "}"
   ]
  },
  {
   "cell_type": "code",
   "execution_count": 152,
   "id": "d7ddc0c6-1f3d-4975-8d48-e8829734e6f4",
   "metadata": {},
   "outputs": [
    {
     "name": "stdout",
     "output_type": "stream",
     "text": [
      "[\n",
      "  'Iqbal',\n",
      "  index: 9,\n",
      "  input: 'Muhammad Iqbal Adudu\\n' +\n",
      "    'Muhammad Iqbal Adudu\\n' +\n",
      "    'Muhammad Iqbal Adudu\\n' +\n",
      "    'muhammad iqbal adudu',\n",
      "  groups: undefined\n",
      "]\n",
      "[\n",
      "  'Iqbal',\n",
      "  index: 30,\n",
      "  input: 'Muhammad Iqbal Adudu\\n' +\n",
      "    'Muhammad Iqbal Adudu\\n' +\n",
      "    'Muhammad Iqbal Adudu\\n' +\n",
      "    'muhammad iqbal adudu',\n",
      "  groups: undefined\n",
      "]\n",
      "[\n",
      "  'Iqbal',\n",
      "  index: 51,\n",
      "  input: 'Muhammad Iqbal Adudu\\n' +\n",
      "    'Muhammad Iqbal Adudu\\n' +\n",
      "    'Muhammad Iqbal Adudu\\n' +\n",
      "    'muhammad iqbal adudu',\n",
      "  groups: undefined\n",
      "]\n",
      "[\n",
      "  'iqbal',\n",
      "  index: 72,\n",
      "  input: 'Muhammad Iqbal Adudu\\n' +\n",
      "    'Muhammad Iqbal Adudu\\n' +\n",
      "    'Muhammad Iqbal Adudu\\n' +\n",
      "    'muhammad iqbal adudu',\n",
      "  groups: undefined\n",
      "]\n"
     ]
    }
   ],
   "source": [
    "// Pencarian incase sensitive\n",
    "while((hasil = regex2.exec(nama)) !== null) {\n",
    "    console.info(hasil)\n",
    "}"
   ]
  },
  {
   "cell_type": "markdown",
   "id": "dde35df8-f8d5-4fa9-9027-897226bf9b56",
   "metadata": {
    "tags": []
   },
   "source": [
    "### Assertion"
   ]
  },
  {
   "cell_type": "markdown",
   "id": "7bd7a34c-929c-4900-8f9d-edd1122ae29e",
   "metadata": {},
   "source": [
    "#### Di awal tulisan aja"
   ]
  },
  {
   "cell_type": "code",
   "execution_count": 160,
   "id": "b1358abb-12b5-4fac-afa2-d91fc6a1a471",
   "metadata": {},
   "outputs": [],
   "source": [
    "var regex = /^muhammad/ig // ^ => harus di awal tulisan aja"
   ]
  },
  {
   "cell_type": "code",
   "execution_count": 159,
   "id": "1d6529fe-81b6-4368-847c-7a7b78199034",
   "metadata": {},
   "outputs": [
    {
     "name": "stdout",
     "output_type": "stream",
     "text": [
      "[\n",
      "  'Muhammad',\n",
      "  index: 0,\n",
      "  input: 'Muhammad Iqbal Adudu\\n' +\n",
      "    'Muhammad Iqbal Adudu\\n' +\n",
      "    'Muhammad Iqbal Adudu\\n' +\n",
      "    'muhammad iqbal adudu',\n",
      "  groups: undefined\n",
      "]\n"
     ]
    }
   ],
   "source": [
    "while ((hasil = regex.exec(nama)) !== null) {\n",
    "    console.log(hasil)\n",
    "}"
   ]
  },
  {
   "cell_type": "code",
   "execution_count": 162,
   "id": "201ccf24-e99f-4483-b5f7-ea7c313274a4",
   "metadata": {},
   "outputs": [],
   "source": [
    "// modifier m => multiline\n",
    "var regex = /^muhammad/igm // di awal tulisan di setiap baris"
   ]
  },
  {
   "cell_type": "code",
   "execution_count": 163,
   "id": "e6723097-f5ea-46d7-89ba-abfceeddaa49",
   "metadata": {},
   "outputs": [
    {
     "name": "stdout",
     "output_type": "stream",
     "text": [
      "[\n",
      "  'Muhammad',\n",
      "  index: 0,\n",
      "  input: 'Muhammad Iqbal Adudu\\n' +\n",
      "    'Muhammad Iqbal Adudu\\n' +\n",
      "    'Muhammad Iqbal Adudu\\n' +\n",
      "    'muhammad iqbal adudu',\n",
      "  groups: undefined\n",
      "]\n",
      "[\n",
      "  'Muhammad',\n",
      "  index: 21,\n",
      "  input: 'Muhammad Iqbal Adudu\\n' +\n",
      "    'Muhammad Iqbal Adudu\\n' +\n",
      "    'Muhammad Iqbal Adudu\\n' +\n",
      "    'muhammad iqbal adudu',\n",
      "  groups: undefined\n",
      "]\n",
      "[\n",
      "  'Muhammad',\n",
      "  index: 42,\n",
      "  input: 'Muhammad Iqbal Adudu\\n' +\n",
      "    'Muhammad Iqbal Adudu\\n' +\n",
      "    'Muhammad Iqbal Adudu\\n' +\n",
      "    'muhammad iqbal adudu',\n",
      "  groups: undefined\n",
      "]\n",
      "[\n",
      "  'muhammad',\n",
      "  index: 63,\n",
      "  input: 'Muhammad Iqbal Adudu\\n' +\n",
      "    'Muhammad Iqbal Adudu\\n' +\n",
      "    'Muhammad Iqbal Adudu\\n' +\n",
      "    'muhammad iqbal adudu',\n",
      "  groups: undefined\n",
      "]\n"
     ]
    }
   ],
   "source": [
    "while ((hasil = regex.exec(nama)) !== null) {\n",
    "    console.log(hasil)\n",
    "}"
   ]
  },
  {
   "cell_type": "markdown",
   "id": "a086e32d-063b-42d5-be15-0e1fa2f82caa",
   "metadata": {},
   "source": [
    "#### Advance Regex"
   ]
  },
  {
   "cell_type": "code",
   "execution_count": 166,
   "id": "4a6af86e-7ebc-470e-ade8-d9e633ccea56",
   "metadata": {},
   "outputs": [],
   "source": [
    "// mencari kata dengan awalan 'ek', tapi akhirannya boleh a, i, u, e, o\n",
    "var regex = /ek[ioaeu]/ig"
   ]
  },
  {
   "cell_type": "code",
   "execution_count": 168,
   "id": "bb2f6842-e1ee-45e1-bd2c-0493850c3d6e",
   "metadata": {},
   "outputs": [],
   "source": [
    "var nama = \"eko eki eki eka eku eke eko eki\""
   ]
  },
  {
   "cell_type": "code",
   "execution_count": 170,
   "id": "15a35789-4203-4b73-bae3-219151f81aae",
   "metadata": {},
   "outputs": [
    {
     "name": "stdout",
     "output_type": "stream",
     "text": [
      "[\n",
      "  'eko',\n",
      "  index: 0,\n",
      "  input: 'eko eki eki eka eku eke eko eki',\n",
      "  groups: undefined\n",
      "]\n",
      "[\n",
      "  'eki',\n",
      "  index: 4,\n",
      "  input: 'eko eki eki eka eku eke eko eki',\n",
      "  groups: undefined\n",
      "]\n",
      "[\n",
      "  'eki',\n",
      "  index: 8,\n",
      "  input: 'eko eki eki eka eku eke eko eki',\n",
      "  groups: undefined\n",
      "]\n",
      "[\n",
      "  'eka',\n",
      "  index: 12,\n",
      "  input: 'eko eki eki eka eku eke eko eki',\n",
      "  groups: undefined\n",
      "]\n",
      "[\n",
      "  'eku',\n",
      "  index: 16,\n",
      "  input: 'eko eki eki eka eku eke eko eki',\n",
      "  groups: undefined\n",
      "]\n",
      "[\n",
      "  'eke',\n",
      "  index: 20,\n",
      "  input: 'eko eki eki eka eku eke eko eki',\n",
      "  groups: undefined\n",
      "]\n",
      "[\n",
      "  'eko',\n",
      "  index: 24,\n",
      "  input: 'eko eki eki eka eku eke eko eki',\n",
      "  groups: undefined\n",
      "]\n",
      "[\n",
      "  'eki',\n",
      "  index: 28,\n",
      "  input: 'eko eki eki eka eku eke eko eki',\n",
      "  groups: undefined\n",
      "]\n"
     ]
    }
   ],
   "source": [
    "while((hasil = regex.exec(nama)) != null) {\n",
    "    console.info(hasil)\n",
    "}"
   ]
  },
  {
   "cell_type": "markdown",
   "id": "49ab6724-7a93-40b6-baf5-0a044c569edf",
   "metadata": {},
   "source": [
    "#### Regular Expression di String"
   ]
  },
  {
   "cell_type": "code",
   "execution_count": 171,
   "id": "21829aac-49a9-40c9-9fa1-077f9174e866",
   "metadata": {},
   "outputs": [],
   "source": [
    "var nama = \"Iqbal Iqbul Iqbel Iqbol Iqbil\""
   ]
  },
  {
   "cell_type": "code",
   "execution_count": 172,
   "id": "920c555d-67a1-4768-8fec-94adc23f3b8e",
   "metadata": {},
   "outputs": [
    {
     "data": {
      "text/plain": [
       "[ 'Iqbal', 'Iqbul', 'Iqbel', 'Iqbol', 'Iqbil' ]"
      ]
     },
     "execution_count": 172,
     "metadata": {},
     "output_type": "execute_result"
    }
   ],
   "source": [
    "nama.match(/iqb[aiueo]l/ig)"
   ]
  },
  {
   "cell_type": "code",
   "execution_count": 174,
   "id": "35d1a964-fa92-4301-88f3-78355a1e3275",
   "metadata": {},
   "outputs": [
    {
     "data": {
      "text/plain": [
       "0"
      ]
     },
     "execution_count": 174,
     "metadata": {},
     "output_type": "execute_result"
    }
   ],
   "source": [
    "nama.search(/iqb[aiueo]l/ig)"
   ]
  },
  {
   "cell_type": "code",
   "execution_count": 175,
   "id": "6133f244-d425-4622-8f93-63c27ef347a4",
   "metadata": {},
   "outputs": [
    {
     "data": {
      "text/plain": [
       "'Irma Irma Irma Irma Irma'"
      ]
     },
     "execution_count": 175,
     "metadata": {},
     "output_type": "execute_result"
    }
   ],
   "source": [
    "nama.replace(/iqb[aiueo]l/ig, \"Irma\")"
   ]
  },
  {
   "cell_type": "code",
   "execution_count": 177,
   "id": "508bece7-d72f-4b39-9b44-24d6c69e10aa",
   "metadata": {},
   "outputs": [
    {
     "data": {
      "text/plain": [
       "'Irma Iqbul Iqbel Iqbol Iqbil'"
      ]
     },
     "execution_count": 177,
     "metadata": {},
     "output_type": "execute_result"
    }
   ],
   "source": [
    "nama.replace(/iqb[aiueo]l/i, \"Irma\")"
   ]
  },
  {
   "cell_type": "code",
   "execution_count": 178,
   "id": "08d126f5-b2e9-4889-b4b1-ee84dc19a8ce",
   "metadata": {},
   "outputs": [
    {
     "data": {
      "text/plain": [
       "[\n",
       "  '',      'qbal ',\n",
       "  'qbul ', 'qbel ',\n",
       "  'qbol ', 'qb',\n",
       "  'l'\n",
       "]"
      ]
     },
     "execution_count": 178,
     "metadata": {},
     "output_type": "execute_result"
    }
   ],
   "source": [
    "nama.split(/i/ig)"
   ]
  },
  {
   "cell_type": "markdown",
   "id": "5f54a107-8622-42aa-9085-c108a30208be",
   "metadata": {},
   "source": [
    "### Proxy"
   ]
  },
  {
   "cell_type": "code",
   "execution_count": 192,
   "id": "344ca9e5-b87b-49d5-b32e-56947aca6c2d",
   "metadata": {},
   "outputs": [],
   "source": [
    "var target = {}"
   ]
  },
  {
   "cell_type": "code",
   "execution_count": 220,
   "id": "7819ae43-f282-489c-93ae-3879eaa32fc6",
   "metadata": {},
   "outputs": [],
   "source": [
    "var handler = {\n",
    "    get: function (target, property) {\n",
    "        console.info(`Access property: ${property}`)\n",
    "        return target[property]\n",
    "    },\n",
    "    set: function (target, property, value) {\n",
    "        console.info(`Change property ${property}: ${value}`)\n",
    "//         Validation\n",
    "        if (value == null) {\n",
    "            target[property] = ''\n",
    "        } else {\n",
    "            target[property] = value\n",
    "        }\n",
    "    }\n",
    "}"
   ]
  },
  {
   "cell_type": "code",
   "execution_count": 221,
   "id": "0bdf7c52-668c-4db6-b0e2-22356ec1efd5",
   "metadata": {},
   "outputs": [],
   "source": [
    "var proxy = new Proxy(target, handler)"
   ]
  },
  {
   "cell_type": "code",
   "execution_count": 222,
   "id": "9b126f57-3480-4540-8c13-f2b88d96a07b",
   "metadata": {},
   "outputs": [
    {
     "name": "stdout",
     "output_type": "stream",
     "text": [
      "Change property firstName: Muhammad\n"
     ]
    },
    {
     "data": {
      "text/plain": [
       "'Muhammad'"
      ]
     },
     "execution_count": 222,
     "metadata": {},
     "output_type": "execute_result"
    }
   ],
   "source": [
    "proxy.firstName = \"Muhammad\""
   ]
  },
  {
   "cell_type": "code",
   "execution_count": 223,
   "id": "4b4eb5a1-fa49-4559-b0a4-6d34453bd877",
   "metadata": {},
   "outputs": [
    {
     "name": "stdout",
     "output_type": "stream",
     "text": [
      "Change property lastName: null\n"
     ]
    },
    {
     "data": {
      "text/plain": [
       "null"
      ]
     },
     "execution_count": 223,
     "metadata": {},
     "output_type": "execute_result"
    }
   ],
   "source": [
    "proxy.lastName = null"
   ]
  },
  {
   "cell_type": "code",
   "execution_count": 224,
   "id": "542bd425-91f7-481e-8d51-3fdd669843d7",
   "metadata": {},
   "outputs": [
    {
     "data": {
      "text/plain": [
       "{ firstName: 'Muhammad', lastName: '' }"
      ]
     },
     "execution_count": 224,
     "metadata": {},
     "output_type": "execute_result"
    }
   ],
   "source": [
    "target"
   ]
  },
  {
   "cell_type": "code",
   "execution_count": 225,
   "id": "d30ce957-ff10-4049-9c5d-2fb480159b2c",
   "metadata": {},
   "outputs": [
    {
     "name": "stdout",
     "output_type": "stream",
     "text": [
      "Access property: firstName\n"
     ]
    },
    {
     "data": {
      "text/plain": [
       "'Muhammad'"
      ]
     },
     "execution_count": 225,
     "metadata": {},
     "output_type": "execute_result"
    }
   ],
   "source": [
    "proxy.firstName"
   ]
  },
  {
   "cell_type": "code",
   "execution_count": 226,
   "id": "91fc33f3-d2ce-44ce-bfb0-0a52d9429a3c",
   "metadata": {},
   "outputs": [
    {
     "name": "stdout",
     "output_type": "stream",
     "text": [
      "Access property: lastName\n"
     ]
    },
    {
     "data": {
      "text/plain": [
       "''"
      ]
     },
     "execution_count": 226,
     "metadata": {},
     "output_type": "execute_result"
    }
   ],
   "source": [
    "proxy.lastName"
   ]
  },
  {
   "cell_type": "code",
   "execution_count": null,
   "id": "7825b392-6bb7-4d89-b7bc-da9f1c6ac580",
   "metadata": {},
   "outputs": [],
   "source": []
  }
 ],
 "metadata": {
  "kernelspec": {
   "display_name": "Javascript (Node.js)",
   "language": "javascript",
   "name": "javascript"
  },
  "language_info": {
   "file_extension": ".js",
   "mimetype": "application/javascript",
   "name": "javascript",
   "version": "16.9.1"
  }
 },
 "nbformat": 4,
 "nbformat_minor": 5
}
